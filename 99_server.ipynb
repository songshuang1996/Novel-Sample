{
 "cells": [
  {
   "cell_type": "code",
   "execution_count": 1,
   "id": "e9c54b5e-ab82-41c8-92ca-96db871f016f",
   "metadata": {},
   "outputs": [
    {
     "name": "stdout",
     "output_type": "stream",
     "text": [
      "importing Jupyter notebook from demo.ipynb\n"
     ]
    }
   ],
   "source": [
    "import import_ipynb\n",
    "from demo import *\n",
    "from pywebio.input import input, FLOAT, input_group\n",
    "from pywebio.output import put_text, put_processbar, set_processbar, put_file,remove,use_scope,put_collapse,put_image\n",
    "from pywebio import start_server\n",
    "import pywebio\n",
    "import os\n",
    "from datetime import datetime\n",
    "import pandas as pd"
   ]
  },
  {
   "cell_type": "code",
   "execution_count": null,
   "id": "e6fb9798-f46a-44e2-bebc-61aebb301ce3",
   "metadata": {},
   "outputs": [],
   "source": [
    "def web_work():\n",
    "    #put_text(pywebio.session.info)\n",
    "    \n",
    "    with use_scope('scope1'):\n",
    "        put_text('Welcome to Novel cis-element discovery pipeline.\\nYou can get familiar with our pipeline and reproduce our experiment with demo setting below：')\n",
    "        put_text('Reported DNA damage response cis-element')\n",
    "        put_collapse('Moraxellales DdaA',\n",
    "        '''\n",
    "        Input Taxonomy:\n",
    "        Moraxellales or Acinetobacter\n",
    "\n",
    "        NCBI Protein ID:\n",
    "        WP_004925639.1,WP_004928485.1,WP_004920287.1,WP_004923497.1,WP_004922541.1,\n",
    "        WP_004920289.1,WP_004930057.1,WP_004923206.1,WP_004930164.1,WP_004927788.1,\n",
    "        WP_004923285.1,WP_004930164.1,WP_004923483.1,WP_004929099.1,WP_011182566.1\n",
    "\n",
    "        ''')\n",
    "        \n",
    "        put_collapse('Deinococcus DdrO',\n",
    "        '''\n",
    "        Input Taxonomy:\n",
    "        Deinococcus\n",
    "\n",
    "        NCBI Protein ID:\n",
    "        WP_012695046.1,WP_012694483.1,WP_049760561.1,WP_012692255.1,WP_012693173.1,\n",
    "        WP_162485426.1,WP_012694690.1,WP_012693159.1,WP_012692693.1,WP_012691930.1,\n",
    "        WP_012693877.1,WP_012693497.1\n",
    "\n",
    "        ''')\n",
    "        \n",
    "    \n",
    "        put_text('Unreported DNA damage response cis-element')\n",
    "        put_collapse('Myxococcota LexA & PafBC',\n",
    "        '''\n",
    "        Input Taxonomy:\n",
    "        Myxococcota \n",
    "\n",
    "        NCBI Protein ID:\n",
    "        WP_011551373.1,WP_011552463.1,WP_011555795.1,WP_011554035.1,\n",
    "        WP_026113991.1,WP_011551079.1,WP_011551545.1,WP_011554193.1,\n",
    "        WP_171452263.1,WP_020477747.1,WP_011554445.1,WP_011555315.1\n",
    "\n",
    "        ''')\n",
    "        \n",
    "    put_text('Hope you like it!\\nThis website is maintained by shuang_s@zju.edu.cn')\n",
    "    \n",
    "    info = input_group(\"Novel cis-element discovery\",[\n",
    "  input('Input Taxonomy', name='tax'),\n",
    "  input('Input NCBI Protein ID', name='protein_id')\n",
    "  #input('Input Representative Species', name='select_specie')\n",
    "    ])\n",
    "    \n",
    "    #put_text(info['tax'],info['protein_id'],info['select_specie'])\n",
    "    \n",
    "\n",
    "        \n",
    "    remove('scope1')\n",
    "    \n",
    "    \n",
    "    #basic information\n",
    "    ntime=str(datetime.now()).replace(' ','_')\n",
    "    taxonomy=info['tax'].replace(' ','')\n",
    "    #select_specie=info['select_specie'].replace(' ','').split('_')[1].split('.')[0]#\n",
    "    proteins=info['protein_id'].replace(' ','')\n",
    "    protein_list=proteins.split(',')\n",
    "    \n",
    "    check_result=check_before_task(taxonomy,protein_list)\n",
    "    print(taxonomy)\n",
    "    #if taxonomy=='Chordata':\n",
    "    #    check_result='True'\n",
    "    print(check_result)\n",
    "    if check_result!='True':\n",
    "        put_text('Here:'+check_result)\n",
    "        raise\n",
    "    put_text('Check passed!')\n",
    "    put_processbar('bar')\n",
    "    set_processbar('bar', 0.5 / 10)\n",
    "    put_text(str(datetime.now()).replace(' ','_'))\n",
    "    \n",
    "    #processing\n",
    "    if taxonomy not in os.listdir('/data/songshuang/server_find_novel_regulator/0_gbk'):\n",
    "        download_gbk(taxonomy)\n",
    "        extract_protein(taxonomy)\n",
    "        diamond_task(taxonomy)\n",
    "    set_processbar('bar', 2 / 10)\n",
    "    get_selected_protein_diamond(protein_list,taxonomy,ntime)\n",
    "    set_processbar('bar', 4 / 10)\n",
    "    combine_meme_work(ntime)\n",
    "    set_processbar('bar', 9 / 10)\n",
    "    motif_for_R(ntime)\n",
    "    set_processbar('bar', 10 / 10)\n",
    "    put_text(str(datetime.now()).replace(' ','_'))\n",
    "    \n",
    "    #download the result\n",
    "    os.chdir('/data/songshuang/server_find_novel_regulator/99_User_project/%s/3_meme_result/'%ntime)\n",
    "    try:\n",
    "        os.system('tar -czvf %s.tar.gz *'%(taxonomy))\n",
    "        img = open('/data/songshuang/server_find_novel_regulator/99_User_project/%s/3_meme_result/meme/novel_motif.png'%ntime, 'rb').read()  \n",
    "        put_image(img)\n",
    "    except:\n",
    "        put_text('There is no significant result.')\n",
    "    try:\n",
    "        #pal\n",
    "        put_text('Palindrome sequence')\n",
    "        img1 = open('/data/songshuang/server_find_novel_regulator/99_User_project/%s/3_meme_result/pal/novel_motif.png'%ntime, 'rb').read()  \n",
    "        put_image(img1)\n",
    "    except:\n",
    "        put_text('There is no significant result.')\n",
    "\n",
    "    content = open('./%s.tar.gz'%taxonomy, 'rb').read()\n",
    "    put_file('%s.tar.gz'%taxonomy, content, 'download me')\n",
    "\n",
    "\n",
    "\n"
   ]
  },
  {
   "cell_type": "code",
   "execution_count": null,
   "id": "fa40346e-6bd6-4b2d-9d82-58457e268ca2",
   "metadata": {
    "collapsed": true,
    "jupyter": {
     "outputs_hidden": true
    },
    "tags": []
   },
   "outputs": [
    {
     "name": "stdout",
     "output_type": "stream",
     "text": [
      "Running on all addresses.\n",
      "Use http://10.72.87.30:8848/ to access the application\n"
     ]
    },
    {
     "ename": "RuntimeError",
     "evalue": "This event loop is already running",
     "output_type": "error",
     "traceback": [
      "\u001b[0;31m---------------------------------------------------------------------------\u001b[0m",
      "\u001b[0;31mRuntimeError\u001b[0m                              Traceback (most recent call last)",
      "Input \u001b[0;32mIn [4]\u001b[0m, in \u001b[0;36m<cell line: 1>\u001b[0;34m()\u001b[0m\n\u001b[1;32m      1\u001b[0m \u001b[38;5;28;01mif\u001b[39;00m \u001b[38;5;18m__name__\u001b[39m \u001b[38;5;241m==\u001b[39m \u001b[38;5;124m'\u001b[39m\u001b[38;5;124m__main__\u001b[39m\u001b[38;5;124m'\u001b[39m:\n\u001b[0;32m----> 2\u001b[0m     \u001b[43mstart_server\u001b[49m\u001b[43m(\u001b[49m\u001b[43mweb_work\u001b[49m\u001b[43m,\u001b[49m\u001b[43mport\u001b[49m\u001b[38;5;241;43m=\u001b[39;49m\u001b[38;5;241;43m8848\u001b[39;49m\u001b[43m)\u001b[49m\n",
      "File \u001b[0;32m~/miniconda3/lib/python3.9/site-packages/pywebio/platform/tornado.py:302\u001b[0m, in \u001b[0;36mstart_server\u001b[0;34m(applications, port, host, debug, cdn, static_dir, remote_access, reconnect_timeout, allowed_origins, check_origin, auto_open_webbrowser, max_payload_size, **tornado_app_settings)\u001b[0m\n\u001b[1;32m    299\u001b[0m \u001b[38;5;28;01mif\u001b[39;00m remote_access:\n\u001b[1;32m    300\u001b[0m     start_remote_access_service(local_port\u001b[38;5;241m=\u001b[39mport)\n\u001b[0;32m--> 302\u001b[0m \u001b[43mtornado\u001b[49m\u001b[38;5;241;43m.\u001b[39;49m\u001b[43mioloop\u001b[49m\u001b[38;5;241;43m.\u001b[39;49m\u001b[43mIOLoop\u001b[49m\u001b[38;5;241;43m.\u001b[39;49m\u001b[43mcurrent\u001b[49m\u001b[43m(\u001b[49m\u001b[43m)\u001b[49m\u001b[38;5;241;43m.\u001b[39;49m\u001b[43mstart\u001b[49m\u001b[43m(\u001b[49m\u001b[43m)\u001b[49m\n",
      "File \u001b[0;32m~/miniconda3/lib/python3.9/site-packages/tornado/platform/asyncio.py:199\u001b[0m, in \u001b[0;36mBaseAsyncIOLoop.start\u001b[0;34m(self)\u001b[0m\n\u001b[1;32m    197\u001b[0m     \u001b[38;5;28mself\u001b[39m\u001b[38;5;241m.\u001b[39m_setup_logging()\n\u001b[1;32m    198\u001b[0m     asyncio\u001b[38;5;241m.\u001b[39mset_event_loop(\u001b[38;5;28mself\u001b[39m\u001b[38;5;241m.\u001b[39masyncio_loop)\n\u001b[0;32m--> 199\u001b[0m     \u001b[38;5;28;43mself\u001b[39;49m\u001b[38;5;241;43m.\u001b[39;49m\u001b[43masyncio_loop\u001b[49m\u001b[38;5;241;43m.\u001b[39;49m\u001b[43mrun_forever\u001b[49m\u001b[43m(\u001b[49m\u001b[43m)\u001b[49m\n\u001b[1;32m    200\u001b[0m \u001b[38;5;28;01mfinally\u001b[39;00m:\n\u001b[1;32m    201\u001b[0m     asyncio\u001b[38;5;241m.\u001b[39mset_event_loop(old_loop)\n",
      "File \u001b[0;32m~/miniconda3/lib/python3.9/asyncio/base_events.py:586\u001b[0m, in \u001b[0;36mBaseEventLoop.run_forever\u001b[0;34m(self)\u001b[0m\n\u001b[1;32m    584\u001b[0m \u001b[38;5;124;03m\"\"\"Run until stop() is called.\"\"\"\u001b[39;00m\n\u001b[1;32m    585\u001b[0m \u001b[38;5;28mself\u001b[39m\u001b[38;5;241m.\u001b[39m_check_closed()\n\u001b[0;32m--> 586\u001b[0m \u001b[38;5;28;43mself\u001b[39;49m\u001b[38;5;241;43m.\u001b[39;49m\u001b[43m_check_running\u001b[49m\u001b[43m(\u001b[49m\u001b[43m)\u001b[49m\n\u001b[1;32m    587\u001b[0m \u001b[38;5;28mself\u001b[39m\u001b[38;5;241m.\u001b[39m_set_coroutine_origin_tracking(\u001b[38;5;28mself\u001b[39m\u001b[38;5;241m.\u001b[39m_debug)\n\u001b[1;32m    588\u001b[0m \u001b[38;5;28mself\u001b[39m\u001b[38;5;241m.\u001b[39m_thread_id \u001b[38;5;241m=\u001b[39m threading\u001b[38;5;241m.\u001b[39mget_ident()\n",
      "File \u001b[0;32m~/miniconda3/lib/python3.9/asyncio/base_events.py:578\u001b[0m, in \u001b[0;36mBaseEventLoop._check_running\u001b[0;34m(self)\u001b[0m\n\u001b[1;32m    576\u001b[0m \u001b[38;5;28;01mdef\u001b[39;00m \u001b[38;5;21m_check_running\u001b[39m(\u001b[38;5;28mself\u001b[39m):\n\u001b[1;32m    577\u001b[0m     \u001b[38;5;28;01mif\u001b[39;00m \u001b[38;5;28mself\u001b[39m\u001b[38;5;241m.\u001b[39mis_running():\n\u001b[0;32m--> 578\u001b[0m         \u001b[38;5;28;01mraise\u001b[39;00m \u001b[38;5;167;01mRuntimeError\u001b[39;00m(\u001b[38;5;124m'\u001b[39m\u001b[38;5;124mThis event loop is already running\u001b[39m\u001b[38;5;124m'\u001b[39m)\n\u001b[1;32m    579\u001b[0m     \u001b[38;5;28;01mif\u001b[39;00m events\u001b[38;5;241m.\u001b[39m_get_running_loop() \u001b[38;5;129;01mis\u001b[39;00m \u001b[38;5;129;01mnot\u001b[39;00m \u001b[38;5;28;01mNone\u001b[39;00m:\n\u001b[1;32m    580\u001b[0m         \u001b[38;5;28;01mraise\u001b[39;00m \u001b[38;5;167;01mRuntimeError\u001b[39;00m(\n\u001b[1;32m    581\u001b[0m             \u001b[38;5;124m'\u001b[39m\u001b[38;5;124mCannot run the event loop while another loop is running\u001b[39m\u001b[38;5;124m'\u001b[39m)\n",
      "\u001b[0;31mRuntimeError\u001b[0m: This event loop is already running"
     ]
    }
   ],
   "source": [
    "if __name__ == '__main__':\n",
    "    start_server(web_work,port=8848)"
   ]
  },
  {
   "cell_type": "code",
   "execution_count": null,
   "id": "78fcf228-8442-4da2-ab9d-c52427777aa5",
   "metadata": {},
   "outputs": [],
   "source": []
  },
  {
   "cell_type": "code",
   "execution_count": null,
   "id": "feab2108-0cb2-4900-926e-ffbcee370003",
   "metadata": {},
   "outputs": [],
   "source": []
  }
 ],
 "metadata": {
  "kernelspec": {
   "display_name": "Python 3 (ipykernel)",
   "language": "python",
   "name": "python3"
  },
  "language_info": {
   "codemirror_mode": {
    "name": "ipython",
    "version": 3
   },
   "file_extension": ".py",
   "mimetype": "text/x-python",
   "name": "python",
   "nbconvert_exporter": "python",
   "pygments_lexer": "ipython3",
   "version": "3.9.5"
  }
 },
 "nbformat": 4,
 "nbformat_minor": 5
}
